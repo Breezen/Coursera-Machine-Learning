{
 "cells": [
  {
   "cell_type": "code",
   "execution_count": 1,
   "metadata": {
    "collapsed": false
   },
   "outputs": [
    {
     "name": "stderr",
     "output_type": "stream",
     "text": [
      "[INFO] This non-commercial license of GraphLab Create is assigned to 12307110141@fudan.edu.cnand will expire on October 03, 2016. For commercial licensing options, visit https://dato.com/buy/.\n",
      "\n",
      "[INFO] Start server at: ipc:///tmp/graphlab_server-3859 - Server binary: /Users/Breezen/anaconda/lib/python2.7/site-packages/graphlab/unity_server - Server log: /tmp/graphlab_server_1444565150.log\n",
      "[INFO] GraphLab Server Version: 1.6.1\n"
     ]
    }
   ],
   "source": [
    "import graphlab\n",
    "products = graphlab.SFrame('amazon_baby.gl/')"
   ]
  },
  {
   "cell_type": "code",
   "execution_count": 2,
   "metadata": {
    "collapsed": true
   },
   "outputs": [],
   "source": [
    "products['word_count'] = graphlab.text_analytics.count_words(products['review'])\n",
    "selected_words = ['awesome', 'great', 'fantastic', 'amazing', 'love', 'horrible', 'bad', 'terrible', 'awful', 'wow', 'hate']"
   ]
  },
  {
   "cell_type": "code",
   "execution_count": 44,
   "metadata": {
    "collapsed": false
   },
   "outputs": [
    {
     "name": "stdout",
     "output_type": "stream",
     "text": [
      "awesome: 2090\n",
      "great: 45206\n",
      "fantastic: 932\n",
      "amazing: 1363\n",
      "love: 42065\n",
      "horrible: 734\n",
      "bad: 3724\n",
      "terrible: 748\n",
      "awful: 383\n",
      "wow: 144\n",
      "hate: 1220\n"
     ]
    }
   ],
   "source": [
    "for word in selected_words:\n",
    "    def wcount(wordcount):\n",
    "        if word in wordcount:\n",
    "            return wordcount[word]\n",
    "        else:\n",
    "            return 0\n",
    "    products[word] = products[\"word_count\"].apply(wcount)\n",
    "    print \"%s: %d\" % (word, sum(products[word]))"
   ]
  },
  {
   "cell_type": "code",
   "execution_count": 50,
   "metadata": {
    "collapsed": true
   },
   "outputs": [],
   "source": [
    "products = products[products['rating'] != 3]\n",
    "products['sentiment'] = products['rating'] >=4\n",
    "train_data,test_data = products.random_split(.8, seed=0)"
   ]
  },
  {
   "cell_type": "code",
   "execution_count": 51,
   "metadata": {
    "collapsed": false
   },
   "outputs": [
    {
     "name": "stdout",
     "output_type": "stream",
     "text": [
      "PROGRESS: Logistic regression:\n",
      "PROGRESS: --------------------------------------------------------\n",
      "PROGRESS: Number of examples          : 133448\n",
      "PROGRESS: Number of classes           : 2\n",
      "PROGRESS: Number of feature columns   : 11\n",
      "PROGRESS: Number of unpacked features : 11\n",
      "PROGRESS: Number of coefficients    : 12\n",
      "PROGRESS: Starting Newton Method\n",
      "PROGRESS: --------------------------------------------------------\n",
      "PROGRESS: +-----------+----------+--------------+-------------------+---------------------+\n",
      "PROGRESS: | Iteration | Passes   | Elapsed Time | Training-accuracy | Validation-accuracy |\n",
      "PROGRESS: +-----------+----------+--------------+-------------------+---------------------+\n",
      "PROGRESS: | 1         | 2        | 1.177815     | 0.844299          | 0.842842            |\n",
      "PROGRESS: | 2         | 3        | 1.302736     | 0.844186          | 0.842842            |\n",
      "PROGRESS: | 3         | 4        | 1.412508     | 0.844276          | 0.843142            |\n",
      "PROGRESS: | 4         | 5        | 1.522140     | 0.844269          | 0.843142            |\n",
      "PROGRESS: | 5         | 6        | 1.628469     | 0.844269          | 0.843142            |\n",
      "PROGRESS: | 6         | 7        | 1.742795     | 0.844269          | 0.843142            |\n",
      "PROGRESS: +-----------+----------+--------------+-------------------+---------------------+\n"
     ]
    }
   ],
   "source": [
    "selected_words_model = graphlab.logistic_classifier.create(train_data,\n",
    "                                                           target='sentiment',\n",
    "                                                           features=selected_words,\n",
    "                                                           validation_set=test_data)"
   ]
  },
  {
   "cell_type": "code",
   "execution_count": 55,
   "metadata": {
    "collapsed": false
   },
   "outputs": [
    {
     "name": "stdout",
     "output_type": "stream",
     "text": [
      "+-------------+-------+-------+------------------+\n",
      "|     name    | index | class |      value       |\n",
      "+-------------+-------+-------+------------------+\n",
      "| (intercept) |  None |   1   |  1.36728315229   |\n",
      "|   awesome   |  None |   1   |  1.05800888878   |\n",
      "|    great    |  None |   1   |  0.883937894898  |\n",
      "|  fantastic  |  None |   1   |  0.891303090304  |\n",
      "|   amazing   |  None |   1   |  0.892802422508  |\n",
      "|     love    |  None |   1   |  1.39989834302   |\n",
      "|   horrible  |  None |   1   |  -1.99651800559  |\n",
      "|     bad     |  None |   1   | -0.985827369929  |\n",
      "|   terrible  |  None |   1   |  -2.09049998487  |\n",
      "|    awful    |  None |   1   |  -1.76469955631  |\n",
      "|     wow     |  None |   1   | -0.0541450123333 |\n",
      "|     hate    |  None |   1   |  -1.40916406276  |\n",
      "+-------------+-------+-------+------------------+\n",
      "[12 rows x 4 columns]\n",
      "\n"
     ]
    }
   ],
   "source": [
    "selected_words_model[\"coefficients\"].print_rows(num_rows = 100)"
   ]
  },
  {
   "cell_type": "code",
   "execution_count": 56,
   "metadata": {
    "collapsed": false
   },
   "outputs": [
    {
     "data": {
      "text/plain": [
       "{'accuracy': 0.8431419649291376, 'confusion_matrix': Columns:\n",
       " \ttarget_label\tint\n",
       " \tpredicted_label\tint\n",
       " \tcount\tint\n",
       " \n",
       " Rows: 4\n",
       " \n",
       " Data:\n",
       " +--------------+-----------------+-------+\n",
       " | target_label | predicted_label | count |\n",
       " +--------------+-----------------+-------+\n",
       " |      0       |        0        |  234  |\n",
       " |      0       |        1        |  5094 |\n",
       " |      1       |        1        | 27846 |\n",
       " |      1       |        0        |  130  |\n",
       " +--------------+-----------------+-------+\n",
       " [4 rows x 3 columns]}"
      ]
     },
     "execution_count": 56,
     "metadata": {},
     "output_type": "execute_result"
    }
   ],
   "source": [
    "selected_words_model.evaluate(test_data)"
   ]
  },
  {
   "cell_type": "code",
   "execution_count": 57,
   "metadata": {
    "collapsed": true
   },
   "outputs": [],
   "source": [
    "champ_reviews = products[products['name'] == 'Baby Trend Diaper Champ']\n",
    "champ_reviews['predicted_sentiment'] = selected_words_model.predict(champ_reviews, output_type='probability')\n",
    "champ_reviews = champ_reviews.sort('predicted_sentiment', ascending=False)"
   ]
  },
  {
   "cell_type": "code",
   "execution_count": 61,
   "metadata": {
    "collapsed": false
   },
   "outputs": [
    {
     "name": "stdout",
     "output_type": "stream",
     "text": [
      "{'rating': 5.0, 'great': 0, 'love': 0, 'name': 'Baby Trend Diaper Champ', 'sentiment': 1, 'awesome': 0, 'bad': 0, 'fantastic': 0, 'word_count': {'all': 1, 'less': 1, \"friend's\": 1, '(which': 1, 'absolutly': 2, 'to': 3, 'easy': 2, 'around': 1, 'deffinite': 1, 'luke': 1, 'champ': 1, 'turns': 1, 'bag': 1, 'quick': 1, 'found': 1, 'where': 1, \"isn't\": 1, 'because': 1, 'house': 1, 'are': 1, 'best': 2, 'really': 3, '\"what': 1, 'what': 1, 'for': 2, 'product,': 1, 'seconds': 1, '3': 1, 'integrated': 1, 'dirty': 1, 'we': 2, 'pad)': 1, 'odor': 1, 'use': 1, 'flat.': 1, 'on': 1, 'of': 2, 'chanp': 1, 'turn': 1, 'free,': 1, 'purchase.great': 1, 'reinforced': 1, 'garbage': 1, 'vie': 1, 'into': 2, 'one': 3, 'economical,': 1, 'smelly': 1, 'ties': 1, 'nursery.': 1, 'little': 1, 'from': 1, 'there': 3, 'bjorn,': 1, 'needed': 1, 'was': 2, 'that': 2, 'smell\"': 1, 'bulk': 1, 'fabulous.updatei': 1, 'hesitated': 1, 'graco': 1, 'baby': 3, 'champ,': 2, 'champ.': 1, 'than': 1, 'loved': 1, 'this': 1, 'work': 1, 'useing': 1, 'can': 1, 'pack': 1, 'and': 6, 'purchases': 1, 'bassinet': 1, 'is': 4, 'use,': 1, 'at': 1, 'have': 1, 'in': 2, 'any': 1, 'if': 1, 'bags': 1, 'comparison,': 1, 'no': 1, 'effective,': 1, 'handed': 1, 'vital': 1, 'tie': 1, 'you': 1, 'smell': 1, 'difficult': 1, 'play': 1, 'added': 1, 'genieplus': 1, 'knew': 1, 'that.': 1, 'eminating': 1, 'changing': 1, 'sealing': 1, 'made.': 1, 'that!!': 1, 'a': 6, 'wondered': 1, 'i': 3, 'well': 1, 'edge': 1, 'clean': 1, 'time': 1, 'genie': 2, 'the': 17, 'fluerville': 1, 'bag,': 1, 'diaper': 7}, 'terrible': 0, 'amazing': 0, 'horrible': 0, 'awful': 0, 'predicted_sentiment': 0.7969408512906712, 'wow': 0, 'hate': 0, 'review': 'Baby Luke can turn a clean diaper to a dirty diaper in 3 seconds flat. The diaper champ turns the smelly diaper into \"what diaper smell\" in less time than that. I hesitated and wondered what I REALLY needed for the nursery. This is one of the best purchases we made. The champ, the baby bjorn, fluerville diaper bag, and graco pack and play bassinet all vie for the best baby purchase.Great product, easy to use, economical, effective, absolutly fabulous.UpdateI knew that I loved the champ, and useing the diaper genie at a friend\\'s house REALLY reinforced that!! There is no comparison, the chanp is easy and smell free, the genie was difficult to use one handed (which is absolutly vital if you have a little one on a changing pad) and there was a deffinite odor eminating from the genieplus we found that the quick tie garbage bags where the ties are integrated into the bag work really well because there isn\\'t any added bulk around the sealing edge of the champ.'}\n"
     ]
    }
   ],
   "source": [
    "for x in champ_reviews:\n",
    "    if \"Baby Luke\" in x[\"review\"]:\n",
    "        print x\n",
    "        break"
   ]
  },
  {
   "cell_type": "code",
   "execution_count": null,
   "metadata": {
    "collapsed": true
   },
   "outputs": [],
   "source": []
  }
 ],
 "metadata": {
  "kernelspec": {
   "display_name": "Python 2",
   "language": "python",
   "name": "python2"
  },
  "language_info": {
   "codemirror_mode": {
    "name": "ipython",
    "version": 2
   },
   "file_extension": ".py",
   "mimetype": "text/x-python",
   "name": "python",
   "nbconvert_exporter": "python",
   "pygments_lexer": "ipython2",
   "version": "2.7.10"
  }
 },
 "nbformat": 4,
 "nbformat_minor": 0
}
